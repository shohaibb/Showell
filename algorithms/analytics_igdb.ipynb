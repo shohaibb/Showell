{
 "cells": [
  {
   "cell_type": "markdown",
   "metadata": {},
   "source": [
    "# Loading files"
   ]
  },
  {
   "cell_type": "code",
   "execution_count": 42,
   "metadata": {},
   "outputs": [],
   "source": [
    "import json\n",
    "\n",
    "with open('igdb_games.json', 'r') as file:\n",
    "    games = json.load(file)\n",
    "    \n",
    "with open('igdb_keywords.json', 'r') as file:\n",
    "    keywords = json.load(file)\n",
    "    \n",
    "with open('igdb_characters.json', 'r') as file:\n",
    "    characters = json.load(file)"
   ]
  },
  {
   "cell_type": "markdown",
   "metadata": {},
   "source": [
    "# Checking some stats for the data"
   ]
  },
  {
   "cell_type": "code",
   "execution_count": 43,
   "metadata": {},
   "outputs": [
    {
     "name": "stdout",
     "output_type": "stream",
     "text": [
      "There are 229887 games with covers. This is 77.8737%.\n",
      "There are 243023 games with genres. This is 82.3235%.\n",
      "There are 100034 games with keywords. This is 33.8863%.\n",
      "There are 295205 games with names. This is 100.0000%.\n",
      "There are 241584 games with similar games. This is 81.8360%.\n",
      "There are 26266 games with storylines. This is 8.8975%.\n",
      "There are 253330 games with summaries. This is 85.8149%.\n",
      "There are 163230 games with themes. This is 55.2938%.\n",
      "There are 980 games with characters. This is 5.9387%.\n",
      "There are 201 characters with descriptions. This is 1.2180%.\n",
      "There are 0 characters with countries. This is 0.0000%.\n",
      "There are 511 characters with genders. This is 3.0966%.\n",
      "There are 510 characters with species. This is 3.0905%.\n"
     ]
    }
   ],
   "source": [
    "# checking fields\n",
    "# Just for the UI, this will not be used in the classification/clustering algorithm.\n",
    "games_with_covers = [game for game in games if 'cover' in game]\n",
    "print(f\"There are {len(games_with_covers)} games with covers. This is {len(games_with_covers) / len(games) * 100:.4f}%.\")\n",
    "\n",
    "# The rest of these will maybe be used for the classification/clustering algorithm.\n",
    "games_with_genres = [game for game in games if 'genres' in game]\n",
    "print(f\"There are {len(games_with_genres)} games with genres. This is {len(games_with_genres) / len(games) * 100:.4f}%.\")\n",
    "\n",
    "games_with_keywords = [game for game in games if 'keywords' in game]\n",
    "print(f\"There are {len(games_with_keywords)} games with keywords. This is {len(games_with_keywords) / len(games) * 100:.4f}%.\")\n",
    "\n",
    "games_with_names = [game for game in games if 'name' in game]\n",
    "print(f\"There are {len(games_with_names)} games with names. This is {len(games_with_names) / len(games) * 100:.4f}%.\")\n",
    "\n",
    "games_with_similar_games = [game for game in games if 'similar_games' in game]\n",
    "print(f\"There are {len(games_with_similar_games)} games with similar games. This is {len(games_with_similar_games) / len(games) * 100:.4f}%.\")\n",
    "\n",
    "games_with_storylines = [game for game in games if 'storyline' in game]\n",
    "print(f\"There are {len(games_with_storylines)} games with storylines. This is {len(games_with_storylines) / len(games) * 100:.4f}%.\")\n",
    "\n",
    "games_with_summaries = [game for game in games if 'summary' in game]\n",
    "print(f\"There are {len(games_with_summaries)} games with summaries. This is {len(games_with_summaries) / len(games) * 100:.4f}%.\")\n",
    "\n",
    "games_with_themes = [game for game in games if 'themes' in game]\n",
    "print(f\"There are {len(games_with_themes)} games with themes. This is {len(games_with_themes) / len(games) * 100:.4f}%.\")\n",
    "\n",
    "# Getting the number of games that have a character\n",
    "games_with_characters = set()\n",
    "for character in characters:\n",
    "    if 'games' in character:\n",
    "        for game in character['games']:\n",
    "            games_with_characters.add(game)\n",
    "        \n",
    "print(f\"There are {len(games_with_characters)} games with characters. This is {len(games_with_characters) / len(characters) * 100:.4f}%.\")\n",
    "\n",
    "characters_with_descriptions = [character for character in characters if 'description' in character]\n",
    "print(f\"There are {len(characters_with_descriptions)} characters with descriptions. This is {len(characters_with_descriptions) / len(characters) * 100:.4f}%.\")\n",
    "\n",
    "characters_with_countries = [character for character in characters if 'country_name' in character]\n",
    "print(f\"There are {len(characters_with_countries)} characters with countries. This is {len(characters_with_countries) / len(characters) * 100:.4f}%.\")\n",
    "\n",
    "characters_with_genders = [character for character in characters if 'gender' in character]\n",
    "print(f\"There are {len(characters_with_genders)} characters with genders. This is {len(characters_with_genders) / len(characters) * 100:.4f}%.\")\n",
    "\n",
    "characters_with_species = [character for character in characters if 'species' in character]\n",
    "print(f\"There are {len(characters_with_species)} characters with species. This is {len(characters_with_species) / len(characters) * 100:.4f}%.\")"
   ]
  },
  {
   "cell_type": "markdown",
   "metadata": {},
   "source": [
    "# TF-IDF for summaries + storylines"
   ]
  },
  {
   "cell_type": "markdown",
   "metadata": {},
   "source": [
    "### Combining storylines and summaries before calculating TF-IDF as this makes sense logically"
   ]
  },
  {
   "cell_type": "code",
   "execution_count": 44,
   "metadata": {},
   "outputs": [
    {
     "name": "stdout",
     "output_type": "stream",
     "text": [
      "['digital distribution', 'steam', 'steam achievements', 'steam trading cards', 'steam workshop', 'mod support', 'untagged', 'the', 'to', 'of', 'and', 'a', 'in', 'is', 'as', 'you', 'your', 'with', 'for', 'on', 'an', 'by', 'from', 'new', 'that', 'this', 'it', 'are', '']\n",
      "max terms: deque(['ballblazer', 'scalar', 'aguire', 'powell', 'kerrigan', 'fei', 'methus', 'stocke', 'hendricks'])\n",
      "max tf-idf: 65.3755\n",
      "avg tf-idf: 6.6433\n",
      "num tf-idf: 8365004\n",
      "num tf-idf > x = 20: 56935; 0.6806%\n"
     ]
    }
   ],
   "source": [
    "import math\n",
    "from collections import deque\n",
    "# text: game id -> summary + storyline\n",
    "game_text = {}\n",
    "# tfidfs: game id -> term -> tf-idf\n",
    "tfidfs = {}\n",
    "# ndwet: term -> number of documents with each term (ndwet)\n",
    "ndwet = {}\n",
    "\n",
    "letters = \"abcdefghijklmnopqrstuvwxyz-\"\n",
    "ignore_list = []\n",
    "\n",
    "with open('ignore_list.txt', 'r') as file:\n",
    "    for line in file:\n",
    "        ignore_list.append(line.strip())\n",
    "ignore_list.append(\"\")\n",
    "print(ignore_list)\n",
    "\n",
    "max_tfidf = 0\n",
    "total_tfidf = 0\n",
    "n_tfidf = 0\n",
    "\n",
    "x = 20\n",
    "n_greater = 0\n",
    "queue = deque()\n",
    "\n",
    "# combining storylines and summaries into a single \"document\" for each game\n",
    "for game in games:\n",
    "    text = \"\"\n",
    "    if 'storyline' in game:\n",
    "        text += game['storyline'] + \" \"\n",
    "    if 'summary' in game:\n",
    "        text += game['summary'] + \" \"\n",
    "    if 'storyline' in game or 'summary' in game:\n",
    "        game_text[game['id']] = text\n",
    "        \n",
    "# lowercasing and removing unallowed characters and words\n",
    "for id in game_text:\n",
    "    cleaned_text = []\n",
    "    text = game_text[id].split()\n",
    "    for i in range(len(text)):\n",
    "        text[i] = text[i].lower()\n",
    "        text[i] = ''.join(char for char in text[i] if char in letters)\n",
    "        \n",
    "        if text[i] not in ignore_list:\n",
    "            cleaned_text.append(text[i])\n",
    "\n",
    "    game_text[id] = cleaned_text\n",
    "\n",
    "# getting number of documents with each term\n",
    "for id in game_text:\n",
    "    text = list(set(game_text[id]))\n",
    "\n",
    "    for term in text:\n",
    "        if term not in ndwet:\n",
    "            ndwet[term] = 1\n",
    "        else:\n",
    "            ndwet[term] += 1\n",
    "\n",
    "# TF calculation, then TF-IDF calculation\n",
    "for id in game_text:\n",
    "    tfidfs[id] = {}\n",
    "    \n",
    "    text = game_text[id]\n",
    "    \n",
    "    for term in text:\n",
    "        if term not in tfidfs[id]:\n",
    "            tfidfs[id][term] = 1\n",
    "        else:\n",
    "            tfidfs[id][term] += 1\n",
    "            \n",
    "    for term in tfidfs[id]:\n",
    "        # TF-IDF\n",
    "        tfidfs[id][term] = (math.log(tfidfs[id][term]) + 1) * (math.log((len(game_text) + 1) / (ndwet[term] + 1)) + 1)\n",
    "        total_tfidf += tfidfs[id][term]\n",
    "        n_tfidf += 1\n",
    "        if tfidfs[id][term] > max_tfidf:\n",
    "            max_tfidf = tfidfs[id][term]\n",
    "            queue.append(term)\n",
    "            if len(queue) == 10:\n",
    "                queue.pop()\n",
    "        if tfidfs[id][term] > x:\n",
    "            n_greater += 1\n",
    "\n",
    "print(f\"max terms: {queue}\")\n",
    "print(f\"max tf-idf: {max_tfidf:.4f}\")\n",
    "print(f\"avg tf-idf: {total_tfidf / n_tfidf:.4f}\")\n",
    "print(f\"num tf-idf: {n_tfidf}\")\n",
    "print(f\"num tf-idf > x = {x}: {n_greater}; {n_greater / n_tfidf * 100 :.4f}%\")"
   ]
  },
  {
   "cell_type": "markdown",
   "metadata": {},
   "source": [
    "# Tagging games with keywords and TF-IDF"
   ]
  },
  {
   "cell_type": "code",
   "execution_count": 45,
   "metadata": {},
   "outputs": [],
   "source": [
    "# tagged_games: game id -> term/keyword -> TF-IDF/max TF-IDF (?)\n",
    "tagged_games = {}\n",
    "# keywords_dict: keyword id -> keyword(s)\n",
    "keywords_dict = {}\n",
    "\n",
    "for keyword in keywords:\n",
    "    keywords_dict[keyword['id']] = keyword['name']\n",
    "\n",
    "# Tagging with storyline + summary TF-IDFs, then keywords (overwriting if necessary)\n",
    "for game in games:\n",
    "    game_id = game['id']\n",
    "    \n",
    "    if game_id in game_text:\n",
    "        tagged_games[game_id] = tfidfs[game_id]\n",
    "        \n",
    "    if 'keywords' in game:\n",
    "        if game_id not in tagged_games:\n",
    "            tagged_games[game_id] = {}\n",
    "            \n",
    "        keyword_list = game['keywords']\n",
    "        for keyword_id in keyword_list:\n",
    "            tagged_games[game_id][keywords_dict[keyword_id]] = 20"
   ]
  },
  {
   "cell_type": "markdown",
   "metadata": {},
   "source": [
    "# Term lists"
   ]
  },
  {
   "cell_type": "code",
   "execution_count": 46,
   "metadata": {},
   "outputs": [],
   "source": [
    "term_lists = []\n",
    "term_list_CHINA = []\n",
    "term_list_EGYPT = []\n",
    "term_list_GREECE = []\n",
    "term_list_JAPAN = []\n",
    "term_list_MIDDLEEAST = []\n",
    "term_list_NORWAY = []\n",
    "term_list_ROME = []\n",
    "\n",
    "with open('culture_term_lists/china.txt') as file:\n",
    "    for line in file:\n",
    "        term_list_CHINA.append(line.strip())\n",
    "\n",
    "with open('culture_term_lists/egypt.txt') as file:\n",
    "    for line in file:\n",
    "        term_list_EGYPT.append(line.strip())\n",
    "        \n",
    "with open('culture_term_lists/greece.txt') as file:\n",
    "    for line in file:\n",
    "        term_list_GREECE.append(line.strip())\n",
    "        \n",
    "with open('culture_term_lists/japan.txt') as file:\n",
    "    for line in file:\n",
    "        term_list_JAPAN.append(line.strip())\n",
    "        \n",
    "with open('culture_term_lists/middle_east.txt') as file:\n",
    "    for line in file:\n",
    "        term_list_MIDDLEEAST.append(line.strip())\n",
    "        \n",
    "with open('culture_term_lists/norway.txt') as file:\n",
    "    for line in file:\n",
    "        term_list_NORWAY.append(line.strip())\n",
    "        \n",
    "with open('culture_term_lists/rome.txt') as file:\n",
    "    for line in file:\n",
    "        term_list_ROME.append(line.strip())\n",
    "        \n",
    "term_lists.append(term_list_CHINA)\n",
    "term_lists.append(term_list_EGYPT)\n",
    "term_lists.append(term_list_GREECE)\n",
    "term_lists.append(term_list_JAPAN)\n",
    "term_lists.append(term_list_MIDDLEEAST)\n",
    "term_lists.append(term_list_NORWAY)\n",
    "term_lists.append(term_list_ROME)\n",
    "\n",
    "# term_lists.extend(term_list_CHINA)\n",
    "# term_lists.extend(term_list_EGYPT)\n",
    "# term_lists.extend(term_list_GREECE)\n",
    "# term_lists.extend(term_list_JAPAN)\n",
    "# term_lists.extend(term_list_MIDDLEEAST)\n",
    "# term_lists.extend(term_list_NORWAY)\n",
    "# term_lists.extend(term_list_ROME)"
   ]
  },
  {
   "cell_type": "markdown",
   "metadata": {},
   "source": [
    "# Labelling/classifying games with cultures they might be related to"
   ]
  },
  {
   "cell_type": "code",
   "execution_count": 47,
   "metadata": {},
   "outputs": [
    {
     "name": "stdout",
     "output_type": "stream",
     "text": [
      "China: 336\n",
      "Egypt: 548\n",
      "Greece: 297\n",
      "Japan: 2048\n",
      "Middle east: 153\n",
      "Norway: 271\n",
      "Rome: 158\n"
     ]
    }
   ],
   "source": [
    "# game_categories: game id -> categories [(category, category value/weight)]\n",
    "game_categories = {}\n",
    "# C, E, G, J, M, N, R\n",
    "counts = [0 for i in range(7)]\n",
    "\n",
    "for id in tagged_games:\n",
    "    game_categories[id] = []\n",
    "    # C, E, G, J, M, N, R\n",
    "    values = [0 for i in range(7)]\n",
    "    for term in tagged_games[id]:\n",
    "        for i in range(7):\n",
    "            if term in term_lists[i]:\n",
    "                values[i] += tagged_games[id][term]\n",
    "    \n",
    "    for i in range(7):\n",
    "        if values[i] >= 20:\n",
    "            # include value for ranking? later\n",
    "            game_categories[id].append((i, values[i]))\n",
    "            counts[i] += 1\n",
    "\n",
    "print(f\"China: {counts[0]}\")\n",
    "print(f\"Egypt: {counts[1]}\")\n",
    "print(f\"Greece: {counts[2]}\")\n",
    "print(f\"Japan: {counts[3]}\")\n",
    "print(f\"Middle east: {counts[4]}\")\n",
    "print(f\"Norway: {counts[5]}\")\n",
    "print(f\"Rome: {counts[6]}\")"
   ]
  }
 ],
 "metadata": {
  "kernelspec": {
   "display_name": "base",
   "language": "python",
   "name": "python3"
  },
  "language_info": {
   "codemirror_mode": {
    "name": "ipython",
    "version": 3
   },
   "file_extension": ".py",
   "mimetype": "text/x-python",
   "name": "python",
   "nbconvert_exporter": "python",
   "pygments_lexer": "ipython3",
   "version": "3.12.4"
  }
 },
 "nbformat": 4,
 "nbformat_minor": 2
}
